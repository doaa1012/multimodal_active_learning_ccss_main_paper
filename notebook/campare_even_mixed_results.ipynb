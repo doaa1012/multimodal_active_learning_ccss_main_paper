{
 "cells": [
  {
   "cell_type": "code",
   "execution_count": 1,
   "id": "bd8ec2e7-3588-476a-bf29-b1ac25e9b95a",
   "metadata": {},
   "outputs": [],
   "source": [
    "import sys\n",
    "sys.path.append(\"..\")\n",
    "from config import *\n",
    "from scripts.measurement_devices import *\n",
    "from scripts.gaussian_process_sawei import GPSawei\n",
    "from scripts.run_active_learning import *\n",
    "import warnings\n",
    "warnings.filterwarnings(\"ignore\", category=RuntimeWarning)\n",
    "from scripts.evenly_spaced_points import *"
   ]
  },
  {
   "cell_type": "code",
   "execution_count": 2,
   "id": "1d9f51e4",
   "metadata": {},
   "outputs": [],
   "source": [
    "# List of datasets from config\n",
    "datasets = [\n",
    "    DATASET_10272_Ag_Au_Pd_RT,\n",
    "    DATASET_10275_Ag_Au_Pd_Pt_Rh_RT,\n",
    "    DATASET_10304_Au_Pd_Pt_Rh_RT,\n",
    "    DATASET_10311_Au_Pd_Pt_Rh_Ru_RT,\n",
    "    DATASET_10403_Ag_Au_Cu_Pd_Pt_RT, \n",
    "    DATASET_10402_Ag_Au_Pd_Pt_RT,\n",
    "    DATASET_10399_Au_Cu_Pd_Pt_RT,\n",
    "    DATASET_10374_Ir_Pd_Pt_Rh_Ru\n",
    "]"
   ]
  },
  {
   "cell_type": "code",
   "execution_count": 3,
   "id": "cb6b499f",
   "metadata": {},
   "outputs": [],
   "source": [
    "\n",
    "\n",
    "compare_evenly_vs_mixed(\n",
    "    evenly_path=os.path.join(EVENLY_PATH_Uncertainty, \"summary_stopping_iterations_GPBasic.csv\"),\n",
    "    mixed_root=UNCERTAINTY_PATH,\n",
    "    mixed_filename=\"mae_priors_stopping_indices.csv\",\n",
    "    output_dir=evenl_mixed_compare_Uncertainty)"
   ]
  },
  {
   "cell_type": "code",
   "execution_count": 4,
   "id": "d86a1211",
   "metadata": {},
   "outputs": [],
   "source": [
    "compare_evenly_vs_mixed(\n",
    "    evenly_path=os.path.join(EVENLY_PATH_Sawei, \"summary_stopping_iterations_GPSawei.csv\"),\n",
    "    mixed_root=SAWEI_PATH,\n",
    "    mixed_filename=\"mae_priors_stopping_indices.csv\",\n",
    "    output_dir=evenl_mixed_compare_SAWEI)"
   ]
  }
 ],
 "metadata": {
  "kernelspec": {
   "display_name": "Python 3",
   "language": "python",
   "name": "python3"
  },
  "language_info": {
   "codemirror_mode": {
    "name": "ipython",
    "version": 3
   },
   "file_extension": ".py",
   "mimetype": "text/x-python",
   "name": "python",
   "nbconvert_exporter": "python",
   "pygments_lexer": "ipython3",
   "version": "3.11.0"
  }
 },
 "nbformat": 4,
 "nbformat_minor": 5
}
